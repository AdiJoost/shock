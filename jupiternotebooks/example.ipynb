{
 "cells": [
  {
   "cell_type": "code",
   "execution_count": 1,
   "metadata": {},
   "outputs": [],
   "source": [
    "from initNotebook import initNotebook\n",
    "initNotebook()"
   ]
  },
  {
   "cell_type": "code",
   "execution_count": 2,
   "metadata": {},
   "outputs": [
    {
     "name": "stdout",
     "output_type": "stream",
     "text": [
      "Hello Hello\n",
      "example\n",
      "LogLevel.INFO\n",
      "info\n",
      "warn\n"
     ]
    }
   ],
   "source": [
    "from src.example import example\n",
    "from config import configManager\n",
    "from log.logger import Logger\n",
    "example.main()\n",
    "print(configManager.getConfig(\"applicationName\"))\n",
    "print(Logger.getChattyLevel())\n",
    "logger = Logger()\n",
    "logger.debug(\"This message Not\")\n",
    "logger.info(\"info\")\n",
    "logger.warn(\"warn\")"
   ]
  },
  {
   "cell_type": "code",
   "execution_count": 3,
   "metadata": {},
   "outputs": [],
   "source": [
    "from data.dataManagers.realization.csvManager import CSVManager\n",
    "\n",
    "csvManager = CSVManager([\"id\", \"value\"], \"aCsv\", \"csv/idValues\")\n",
    "#csvManager.writeHeader()\n",
    "csvManager.writeLine([1, 20])"
   ]
  },
  {
   "cell_type": "code",
   "execution_count": 4,
   "metadata": {},
   "outputs": [
    {
     "name": "stdout",
     "output_type": "stream",
     "text": [
      "number of inputs in the row do not match the number of values in the header.\n"
     ]
    }
   ],
   "source": [
    "csvManager.writeLine([2])"
   ]
  },
  {
   "cell_type": "code",
   "execution_count": null,
   "metadata": {},
   "outputs": [],
   "source": []
  }
 ],
 "metadata": {
  "kernelspec": {
   "display_name": "trading",
   "language": "python",
   "name": "python3"
  },
  "language_info": {
   "codemirror_mode": {
    "name": "ipython",
    "version": 3
   },
   "file_extension": ".py",
   "mimetype": "text/x-python",
   "name": "python",
   "nbconvert_exporter": "python",
   "pygments_lexer": "ipython3",
   "version": "3.12.4"
  }
 },
 "nbformat": 4,
 "nbformat_minor": 2
}
